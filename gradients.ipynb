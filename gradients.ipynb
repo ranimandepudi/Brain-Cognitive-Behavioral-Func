{
 "cells": [
  {
   "cell_type": "code",
   "execution_count": null,
   "metadata": {},
   "outputs": [],
   "source": [
    "import numpy as np\n",
    "import nibabel as nib\n"
   ]
  },
  {
   "cell_type": "code",
   "execution_count": null,
   "metadata": {},
   "outputs": [],
   "source": [
    "#c2b_cerebellum_frontal-parietal\n",
    "gradients = np.load('/data/users3/rmandepudi1/final/c0b_rate_final/cerebellum_frontal/input_gradients_best_fold_2.npy')  # "
   ]
  },
  {
   "cell_type": "code",
   "execution_count": null,
   "metadata": {},
   "outputs": [],
   "source": [
    "print(\"Shape of data:\", gradients.shape)\n",
    "print(\"Data type:\", gradients.dtype)\n",
    "print(\"Min value:\", gradients.min())\n",
    "print(\"Max value:\", gradients.max())\n",
    "print(\"Mean value:\", gradients.mean())\n",
    "print(\"Standard deviation:\", gradients.std())"
   ]
  },
  {
   "cell_type": "code",
   "execution_count": null,
   "metadata": {},
   "outputs": [],
   "source": [
    "print(gradients.shape, \"Gradients Shapee\")"
   ]
  },
  {
   "cell_type": "code",
   "execution_count": null,
   "metadata": {},
   "outputs": [],
   "source": [
    "mean_gradients = np.mean(gradients, axis=0)  # Shape: (1, D, H, W)\n",
    "print(mean_gradients.shape)"
   ]
  },
  {
   "cell_type": "code",
   "execution_count": null,
   "metadata": {},
   "outputs": [],
   "source": [
    "mean_gradients_abs = np.abs(mean_gradients)\n",
    "mean_gradients_abs = mean_gradients_abs.squeeze(0)\n",
    "print(mean_gradients_abs.shape)"
   ]
  },
  {
   "cell_type": "code",
   "execution_count": null,
   "metadata": {},
   "outputs": [],
   "source": [
    "from sklearn.preprocessing import StandardScaler\n",
    "\n",
    "scaler = StandardScaler()\n",
    "mean_gradients_normalized = scaler.fit_transform(mean_gradients_abs.reshape(-1, 1)).reshape(mean_gradients_abs.shape)\n"
   ]
  },
  {
   "cell_type": "code",
   "execution_count": null,
   "metadata": {},
   "outputs": [],
   "source": [
    "mean_gradients_transposed = np.transpose(mean_gradients_normalized, (2, 1, 0))\n",
    "print(\"Transposed mean gradients shape:\", mean_gradients_transposed.shape)\n"
   ]
  },
  {
   "cell_type": "code",
   "execution_count": null,
   "metadata": {},
   "outputs": [],
   "source": [
    "overlay_data = mean_gradients_transposed\n"
   ]
  },
  {
   "cell_type": "code",
   "execution_count": null,
   "metadata": {},
   "outputs": [],
   "source": [
    "import nibabel as nib\n",
    "\n",
    "reference_img = nib.load('/data/neuromark2/Data/ABCD/Data_BIDS_5/Raw_Data/NDARINVJU8R73PG/Baseline/anat_20170512132710/smwc1pT1.nii')\n",
    "affine = reference_img.affine\n",
    "\n",
    "# Create the NIfTI image\n",
    "nii_image = nib.Nifti1Image(overlay_data, affine)\n",
    "\n",
    "# Save the NIfTI image to a file\n",
    "nib.save(nii_image, 'c2b_CF_test.nii')\n",
    "\n",
    "print(\"NIfTI file 'c2b_CF_test' has been created.\")"
   ]
  },
  {
   "cell_type": "code",
   "execution_count": null,
   "metadata": {},
   "outputs": [],
   "source": [
    "import nibabel as nib\n",
    "import numpy as np\n",
    "from scipy import ndimage\n",
    "import matplotlib.pyplot as plt\n",
    "\n",
    "# Step 1: Load the brain image\n",
    "img_path = '/data/neuromark2/Data/ABCD/Data_BIDS_5/Raw_Data/NDARINVJU8R73PG/Baseline/anat_20170512132710/smwc1pT1.nii'  # Replace with your file path\n",
    "img = nib.load(img_path)\n",
    "data = img.get_fdata()\n",
    "\n",
    "# Step 2: Apply thresholding to create the mask\n",
    "threshold = 0.5  # Adjust this value as needed\n",
    "mask = (data > threshold).astype(np.uint8)\n",
    "\n",
    "# Step 3: Post-processing to clean up the mask\n",
    "# Apply binary closing to remove small holes and smooth the mask\n",
    "mask = ndimage.binary_closing(mask, structure=np.ones((3, 3, 3))).astype(np.uint8)\n",
    "\n",
    "# Step 4: Save the mask as a new NIfTI file\n",
    "mask_img = nib.Nifti1Image(mask, img.affine, img.header)\n",
    "output_path = 'brain_mask.nii'  # Replace with your desired output path\n",
    "nib.save(mask_img, output_path)\n",
    "\n",
    "print(f'Mask saved to {output_path}')"
   ]
  },
  {
   "cell_type": "code",
   "execution_count": 8,
   "metadata": {},
   "outputs": [],
   "source": [
    "from nilearn.masking import unmask, apply_mask\n",
    "\n",
    "img_1 = apply_mask('/data/users3/rmandepudi1/final/c0b_rate_final/cerebellum_frontal/c0b_whole_brain.nii', '/data/users3/rmandepudi1/final/brain_mask.nii')\n",
    "img_1 = unmask(img_1, '/data/users3/rmandepudi1/final/brain_mask.nii')\n",
    "\n"
   ]
  },
  {
   "cell_type": "code",
   "execution_count": 9,
   "metadata": {},
   "outputs": [
    {
     "name": "stderr",
     "output_type": "stream",
     "text": [
      "/home/users/rmandepudi1/miniconda3/lib/python3.11/site-packages/numpy/core/fromnumeric.py:771: UserWarning: Warning: 'partition' will ignore the 'mask' of the MaskedArray.\n",
      "  a.partition(kth, axis=axis, kind=kind, order=order)\n"
     ]
    }
   ],
   "source": [
    "from nilearn import plotting\n",
    "\n",
    "plotting.view_img(img_1)\n",
    "\n",
    "img_1.to_filename('c0b_whole_brain_final_result.nii')"
   ]
  },
  {
   "cell_type": "code",
   "execution_count": null,
   "metadata": {},
   "outputs": [],
   "source": []
  }
 ],
 "metadata": {
  "kernelspec": {
   "display_name": "base",
   "language": "python",
   "name": "python3"
  },
  "language_info": {
   "codemirror_mode": {
    "name": "ipython",
    "version": 3
   },
   "file_extension": ".py",
   "mimetype": "text/x-python",
   "name": "python",
   "nbconvert_exporter": "python",
   "pygments_lexer": "ipython3",
   "version": "3.11.5"
  }
 },
 "nbformat": 4,
 "nbformat_minor": 2
}
